{
 "cells": [
  {
   "cell_type": "markdown",
   "id": "b4cd7542",
   "metadata": {},
   "source": [
    "# PrefixSums"
   ]
  },
  {
   "cell_type": "code",
   "execution_count": 1,
   "id": "ca0e807b",
   "metadata": {},
   "outputs": [
    {
     "name": "stdout",
     "output_type": "stream",
     "text": [
      "[5, 8, 13, 1]\n",
      "[5, 13, 26, 27]\n",
      "[1, 5, 8, 13, 19, 26, 26, 27]\n"
     ]
    }
   ],
   "source": [
    "x = [1, 4, 3, 5, 6, 7, 0, 1]\n",
    "\n",
    "rdd = sc.parallelize(x, 4).cache()\n",
    "\n",
    "def f(iterator):\n",
    "    yield sum(iterator)\n",
    "\n",
    "sums = rdd.mapPartitions(f).collect()\n",
    "\n",
    "print(sums)\n",
    "\n",
    "for i in range(1, len(sums)):\n",
    "    sums[i] += sums[i-1]\n",
    "\n",
    "print(sums)\n",
    "\n",
    "def g(index, iterator):\n",
    "    global sums\n",
    "    if index == 0:\n",
    "        s = 0\n",
    "    else:\n",
    "        s = sums[index-1]\n",
    "    for i in iterator:\n",
    "        s += i\n",
    "        yield s\n",
    "\n",
    "prefix_sums = rdd.mapPartitionsWithIndex(g)\n",
    "print(prefix_sums.collect())"
   ]
  },
  {
   "cell_type": "markdown",
   "id": "14168833",
   "metadata": {},
   "source": [
    "# MonotocityChecking"
   ]
  },
  {
   "cell_type": "code",
   "execution_count": 2,
   "id": "2be00d6a",
   "metadata": {},
   "outputs": [
    {
     "name": "stdout",
     "output_type": "stream",
     "text": [
      "[(True, 1, 5), (False, 7, 14), (True, 16, 24), (True, 24, 30)]\n",
      "Not monotone\n"
     ]
    }
   ],
   "source": [
    "x = [1, 3, 4, 5, 7, 3, 10, 14, 16, 20, 21, 24, 24, 26, 27, 30]\n",
    "\n",
    "rdd = sc.parallelize(x, 4).cache()\n",
    "\n",
    "def f(it):\n",
    "    first = next(it)\n",
    "    last = first\n",
    "    increasing = True\n",
    "    for i in it:\n",
    "        if i < last:\n",
    "            increasing = False\n",
    "        last = i\n",
    "    yield increasing, first, last\n",
    "\n",
    "results = rdd.mapPartitions(f).collect()\n",
    "\n",
    "print(results)\n",
    "\n",
    "increasing = True\n",
    "if results[0][0] == False:\n",
    "    increasing = False\n",
    "else:\n",
    "    for i in range(1, len(results)):\n",
    "        if results[i][0] == False or results[i][1] < results[i-1][2]:\n",
    "            increasing = False\n",
    "if increasing:\n",
    "    print(\"Monotone\")\n",
    "else:\n",
    "    print(\"Not monotone\")\n",
    "#exam like"
   ]
  },
  {
   "cell_type": "markdown",
   "id": "128cfcfc",
   "metadata": {},
   "source": [
    "# MaximumSubarrayProblem"
   ]
  },
  {
   "cell_type": "code",
   "execution_count": 3,
   "id": "7ca27977",
   "metadata": {},
   "outputs": [
    {
     "name": "stdout",
     "output_type": "stream",
     "text": [
      "9\n"
     ]
    }
   ],
   "source": [
    "# Classical divide and conquer algorithm\n",
    "\n",
    "A = [-3, 2, 1, -4, 5, 2, -1, 3, -1]\n",
    "\n",
    "def MaxSubarray(A, p, r):\n",
    "    if p == r:\n",
    "        return A[p]\n",
    "    q = (p+r)//2\n",
    "    M1 = MaxSubarray(A, p, q)\n",
    "    M2 = MaxSubarray(A, q+1, r)\n",
    "    Lm = -float('inf')\n",
    "    Rm = Lm\n",
    "    V = 0\n",
    "    for i in range(q, p-1, -1):\n",
    "        V += A[i]\n",
    "        if V > Lm:\n",
    "            Lm = V\n",
    "    V = 0\n",
    "    for i in range(q+1, r+1):\n",
    "        V += A[i]\n",
    "        if V > Rm:\n",
    "            Rm = V\n",
    "    return max(M1, M2, Lm+Rm)\n",
    "\n",
    "print(MaxSubarray(A, 0, len(A)-1))"
   ]
  },
  {
   "cell_type": "code",
   "execution_count": 4,
   "id": "ddbdd17c",
   "metadata": {},
   "outputs": [
    {
     "name": "stdout",
     "output_type": "stream",
     "text": [
      "9\n"
     ]
    }
   ],
   "source": [
    "# Linear-time algorithm\n",
    "# Written in a way so that we can call it for each partition\n",
    "\n",
    "def linear_time(it):\n",
    "    Vmax = -float('inf')\n",
    "    V = 0\n",
    "    for Ai in it:\n",
    "        V += Ai\n",
    "        if V > Vmax:\n",
    "            Vmax = V\n",
    "        if V < 0:\n",
    "            V = 0\n",
    "    yield Vmax\n",
    "    \n",
    "print(next(linear_time(A)))"
   ]
  },
  {
   "cell_type": "code",
   "execution_count": 5,
   "id": "8498d64a",
   "metadata": {},
   "outputs": [
    {
     "name": "stdout",
     "output_type": "stream",
     "text": [
      "[-1, -3, 7, 1]\n",
      "[(2, -1), (0, 1), (7, 7), (2, 2)]\n",
      "9\n"
     ]
    }
   ],
   "source": [
    "# The Spark algorithm:\n",
    "\n",
    "def compute_sum(it):\n",
    "    yield sum(it)\n",
    "\n",
    "def compute_LmRm(index, it):\n",
    "    Rm = -float('inf')\n",
    "    L = sums[index]\n",
    "    Lm = L\n",
    "    R = 0\n",
    "    for Ai in it:\n",
    "        L -= Ai\n",
    "        R += Ai\n",
    "        if L > Lm:\n",
    "            Lm = L\n",
    "        if R > Rm:\n",
    "            Rm = R\n",
    "    yield (Lm, Rm)\n",
    "\n",
    "num_partitions = 4\n",
    "rdd = sc.parallelize(A, num_partitions).cache()\n",
    "sums = rdd.mapPartitions(compute_sum).collect()\n",
    "print(sums)\n",
    "LmRms = rdd.mapPartitionsWithIndex(compute_LmRm).collect()\n",
    "print(LmRms)\n",
    "best = max(rdd.mapPartitions(linear_time).collect())\n",
    "\n",
    "for i in range(num_partitions-1):\n",
    "    for j in range(i+1, num_partitions):\n",
    "        x = LmRms[i][0] + sum(sums[i+1:j]) + LmRms[j][1]\n",
    "        if x > best:\n",
    "            best = x\n",
    "\n",
    "print(best)"
   ]
  },
  {
   "cell_type": "markdown",
   "id": "81c39215",
   "metadata": {},
   "source": [
    "# Quiz"
   ]
  },
  {
   "cell_type": "code",
   "execution_count": 7,
   "id": "ce603d15",
   "metadata": {},
   "outputs": [
    {
     "data": {
      "text/plain": [
       "PythonRDD[11] at RDD at PythonRDD.scala:53"
      ]
     },
     "execution_count": 7,
     "metadata": {},
     "output_type": "execute_result"
    }
   ],
   "source": [
    "# Q1\n",
    "#Load it into spark and use divide-and-conquer to find the first (adj, noun) pair \n",
    "#in which the noun is 'unification'. Print the corresponding adjective.  \n",
    "#The skeleton code is provided below.  \n",
    "#One solution is to use filter() to find all pairs where the noun is 'unification', \n",
    "#and then report the first one.  This is inefficient.  \n",
    "#The better idea is to find, in parallel, the first such pair in each partition (if one exists), \n",
    "#and then find the first partition that returns such a pair.\n",
    "numPartitions = 10\n",
    "\n",
    "lines = sc.textFile('../data/adj_noun_pairs.txt', numPartitions)\n",
    "pairs = lines.map(lambda l: tuple(l.split())).filter(lambda p: len(p)==2)\n",
    "pairs.cache()\n",
    "\n",
    "# FILL IN YOUR CODE HERE"
   ]
  },
  {
   "cell_type": "code",
   "execution_count": 12,
   "id": "bb345411",
   "metadata": {},
   "outputs": [
    {
     "data": {
      "text/plain": [
       "[('several', 'unification')]"
      ]
     },
     "execution_count": 12,
     "metadata": {},
     "output_type": "execute_result"
    }
   ],
   "source": [
    "pairs.filter(lambda x: x[1]=='unification').take(1)"
   ]
  },
  {
   "cell_type": "code",
   "execution_count": 16,
   "id": "80cf1481",
   "metadata": {},
   "outputs": [
    {
     "data": {
      "text/plain": [
       "[('several', 'unification')]"
      ]
     },
     "execution_count": 16,
     "metadata": {},
     "output_type": "execute_result"
    }
   ],
   "source": [
    "def f(i):\n",
    "    for x in i:\n",
    "        if x[1]=='unification':\n",
    "            yield x\n",
    "            break\n",
    "pairs.mapPartitions(f).take(1)"
   ]
  },
  {
   "cell_type": "code",
   "execution_count": 20,
   "id": "471ea382",
   "metadata": {},
   "outputs": [],
   "source": [
    "# Q2\n",
    "#Design a parallel divide-and-conquer algorithm for the following problem: \n",
    "#Given two strings of equal length, compare them lexicographically. Output '<', '=', or '>', \n",
    "#depending on the comparison result. The skeleton code is provided below.  \n",
    "#Your code should run on all partitions of the rdd in parallel.\n",
    "x = 'abcccbcbcacaccacaabb'\n",
    "y = 'abcccbcccacaccacaabb'\n",
    "\n",
    "numPartitions = 4\n",
    "rdd = sc.parallelize(zip(x,y), numPartitions)\n",
    "\n",
    "# FILL IN YOUR CODE HERE"
   ]
  },
  {
   "cell_type": "code",
   "execution_count": 22,
   "id": "397d6ee5",
   "metadata": {},
   "outputs": [
    {
     "name": "stdout",
     "output_type": "stream",
     "text": [
      "<\n"
     ]
    }
   ],
   "source": [
    "def f(i):\n",
    "    for x in i:\n",
    "        if x[0]>x[1]:\n",
    "            yield '>'\n",
    "            break\n",
    "        if x[0]<x[1]:\n",
    "            yield '<'\n",
    "            break\n",
    "    yield '='\n",
    "result=rdd.mapPartitions(f).collect()\n",
    "for s in result:\n",
    "    if s != '=':\n",
    "        print(s)\n",
    "        break"
   ]
  },
  {
   "cell_type": "code",
   "execution_count": null,
   "id": "c691b27f",
   "metadata": {},
   "outputs": [],
   "source": []
  }
 ],
 "metadata": {
  "kernelspec": {
   "display_name": "Python 3",
   "language": "python",
   "name": "python3"
  },
  "language_info": {
   "codemirror_mode": {
    "name": "ipython",
    "version": 3
   },
   "file_extension": ".py",
   "mimetype": "text/x-python",
   "name": "python",
   "nbconvert_exporter": "python",
   "pygments_lexer": "ipython3",
   "version": "3.8.11"
  }
 },
 "nbformat": 4,
 "nbformat_minor": 5
}
