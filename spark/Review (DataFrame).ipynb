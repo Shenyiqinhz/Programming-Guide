{
 "cells": [
  {
   "cell_type": "markdown",
   "id": "99de5763",
   "metadata": {},
   "source": [
    "# DataFrame Operations"
   ]
  },
  {
   "cell_type": "code",
   "execution_count": 99,
   "id": "73210cc5",
   "metadata": {},
   "outputs": [
    {
     "name": "stdout",
     "output_type": "stream",
     "text": [
      "Row(name='Alice', age=11)\n",
      "Alice 11\n",
      "Alice 11\n",
      "<built-in method count of Row object at 0x7fad897bf180>\n",
      "1\n"
     ]
    }
   ],
   "source": [
    "from pyspark.sql import Row\n",
    "\n",
    "row = Row(name=\"Alice\", age=11)\n",
    "print(row)\n",
    "print(row['name'], row['age'])\n",
    "print(row.name, row.age)\n",
    "\n",
    "row = Row(name=\"Alice\", age=11, count=1)\n",
    "print(row.count)\n",
    "print(row['count'])"
   ]
  },
  {
   "cell_type": "code",
   "execution_count": 100,
   "id": "2d2ce4b5",
   "metadata": {},
   "outputs": [],
   "source": [
    "# Data file at https://www.cse.ust.hk/msbd5003/data/building.csv\n",
    "df = spark.read.csv('../data/building.csv', header=True, inferSchema=True)"
   ]
  },
  {
   "cell_type": "code",
   "execution_count": 107,
   "id": "de208417",
   "metadata": {
    "scrolled": false
   },
   "outputs": [
    {
     "name": "stdout",
     "output_type": "stream",
     "text": [
      "+----------+-----------+-----------+-----------+------------+\n",
      "|BuildingID|BuildingMgr|BuildingAge|HVACproduct|     Country|\n",
      "+----------+-----------+-----------+-----------+------------+\n",
      "|         1|         M1|         25|     AC1000|         USA|\n",
      "|         2|         M2|         27|     FN39TG|      France|\n",
      "|         3|         M3|         28|     JDNS77|      Brazil|\n",
      "|         4|         M4|         17|     GG1919|     Finland|\n",
      "|         5|         M5|          3|    ACMAX22|   Hong Kong|\n",
      "|         6|         M6|          9|     AC1000|   Singapore|\n",
      "|         7|         M7|         13|     FN39TG|South Africa|\n",
      "|         8|         M8|         25|     JDNS77|   Australia|\n",
      "|         9|         M9|         11|     GG1919|      Mexico|\n",
      "|        10|        M10|         23|    ACMAX22|       China|\n",
      "|        11|        M11|         14|     AC1000|     Belgium|\n",
      "|        12|        M12|         26|     FN39TG|     Finland|\n",
      "|        13|        M13|         25|     JDNS77|Saudi Arabia|\n",
      "|        14|        M14|         17|     GG1919|     Germany|\n",
      "|        15|        M15|         19|    ACMAX22|      Israel|\n",
      "|        16|        M16|         23|     AC1000|      Turkey|\n",
      "|        17|        M17|         11|     FN39TG|       Egypt|\n",
      "|        18|        M18|         25|     JDNS77|   Indonesia|\n",
      "|        19|        M19|         14|     GG1919|      Canada|\n",
      "|        20|        M20|         19|    ACMAX22|   Argentina|\n",
      "+----------+-----------+-----------+-----------+------------+\n",
      "\n"
     ]
    }
   ],
   "source": [
    "# show the content of the dataframe\n",
    "df.show()"
   ]
  },
  {
   "cell_type": "code",
   "execution_count": 102,
   "id": "8c743890",
   "metadata": {},
   "outputs": [
    {
     "name": "stdout",
     "output_type": "stream",
     "text": [
      "root\n",
      " |-- BuildingID: integer (nullable = true)\n",
      " |-- BuildingMgr: string (nullable = true)\n",
      " |-- BuildingAge: integer (nullable = true)\n",
      " |-- HVACproduct: string (nullable = true)\n",
      " |-- Country: string (nullable = true)\n",
      "\n"
     ]
    }
   ],
   "source": [
    "# Print the dataframe schema in a tree format\n",
    "df.printSchema()"
   ]
  },
  {
   "cell_type": "code",
   "execution_count": 108,
   "id": "6dc080e9",
   "metadata": {},
   "outputs": [
    {
     "name": "stdout",
     "output_type": "stream",
     "text": [
      "+-----------+\n",
      "|BuildingAge|\n",
      "+-----------+\n",
      "|         25|\n",
      "|         27|\n",
      "|         28|\n",
      "|         17|\n",
      "|          3|\n",
      "|          9|\n",
      "|         13|\n",
      "|         25|\n",
      "|         11|\n",
      "|         23|\n",
      "|         14|\n",
      "|         26|\n",
      "|         25|\n",
      "|         17|\n",
      "|         19|\n",
      "|         23|\n",
      "|         11|\n",
      "|         25|\n",
      "|         14|\n",
      "|         19|\n",
      "+-----------+\n",
      "\n"
     ]
    }
   ],
   "source": [
    "# Retrieve specific columns from the dataframe\n",
    "#df.select('BuildingID', 'Country').show(3)\n",
    "df.select('BuildingAge').show()"
   ]
  },
  {
   "cell_type": "code",
   "execution_count": 62,
   "id": "895c4100",
   "metadata": {},
   "outputs": [
    {
     "name": "stdout",
     "output_type": "stream",
     "text": [
      "+-----------+-----+\n",
      "|HVACProduct|count|\n",
      "+-----------+-----+\n",
      "|    ACMAX22|    4|\n",
      "|     AC1000|    4|\n",
      "|     JDNS77|    4|\n",
      "+-----------+-----+\n",
      "only showing top 3 rows\n",
      "\n"
     ]
    }
   ],
   "source": [
    "# Use GroupBy clause with dataframe \n",
    "df.groupBy('HVACProduct').count().show(3) #same as GROUPBY count"
   ]
  },
  {
   "cell_type": "code",
   "execution_count": 8,
   "id": "6e54df98",
   "metadata": {},
   "outputs": [
    {
     "data": {
      "text/plain": [
       "[Row(BuildingID=1, BuildingMgr='M1', BuildingAge=25, HVACproduct='AC1000', Country='USA'),\n",
       " Row(BuildingID=2, BuildingMgr='M2', BuildingAge=27, HVACproduct='FN39TG', Country='France'),\n",
       " Row(BuildingID=3, BuildingMgr='M3', BuildingAge=28, HVACproduct='JDNS77', Country='Brazil')]"
      ]
     },
     "execution_count": 8,
     "metadata": {},
     "output_type": "execute_result"
    }
   ],
   "source": [
    "# Create an RDD from the dataframe\n",
    "dfrdd = df.rdd\n",
    "dfrdd.take(3)"
   ]
  },
  {
   "cell_type": "code",
   "execution_count": 63,
   "id": "422af529",
   "metadata": {},
   "outputs": [
    {
     "name": "stdout",
     "output_type": "stream",
     "text": [
      "+----------+---+\n",
      "|BuildingID| OK|\n",
      "+----------+---+\n",
      "|         2| OK|\n",
      "|         3| OK|\n",
      "|         4| OK|\n",
      "+----------+---+\n",
      "only showing top 3 rows\n",
      "\n"
     ]
    }
   ],
   "source": [
    "from pyspark.sql.functions import *\n",
    "df.where(\"Country<'USA'\").select('BuildingID', lit('OK')).show(3) #add a new column using lit"
   ]
  },
  {
   "cell_type": "markdown",
   "id": "34c9ed03",
   "metadata": {},
   "source": [
    "# Rewriting SQL with DataFrame API"
   ]
  },
  {
   "cell_type": "code",
   "execution_count": 10,
   "id": "d3c34e92",
   "metadata": {},
   "outputs": [],
   "source": [
    "dfCustomer = spark.read.csv('../data/Customer.csv', header=True, inferSchema=True)\n",
    "dfProduct = spark.read.csv('../data/Product.csv', header=True, inferSchema=True)\n",
    "dfDetail = spark.read.csv('../data/SalesOrderDetail.csv', header=True, inferSchema=True)\n",
    "dfHeader = spark.read.csv('../data/SalesOrderHeader.csv', header=True, inferSchema=True)"
   ]
  },
  {
   "cell_type": "code",
   "execution_count": 1,
   "id": "e7de6f75",
   "metadata": {},
   "outputs": [],
   "source": [
    "#dfCustomer.printSchema()\n",
    "#dfProduct.printSchema()\n",
    "#dfDetail.printSchema()\n",
    "#dfDetail.printSchema()"
   ]
  },
  {
   "cell_type": "markdown",
   "id": "2854cee0",
   "metadata": {},
   "source": [
    "SELECT \"ProductID\", \"Name\", \"ListPrice\" \n",
    "FROM Product \n",
    "WHERE Color = 'black'"
   ]
  },
  {
   "cell_type": "code",
   "execution_count": 66,
   "id": "7c7d1f91",
   "metadata": {
    "scrolled": false
   },
   "outputs": [
    {
     "name": "stdout",
     "output_type": "stream",
     "text": [
      "+---------+-------------------------+---------+\n",
      "|ProductID|Name                     |ListPrice|\n",
      "+---------+-------------------------+---------+\n",
      "|680      |HL Road Frame - Black, 58|1431.5   |\n",
      "|708      |Sport-100 Helmet, Black  |34.99    |\n",
      "|722      |LL Road Frame - Black, 58|337.22   |\n",
      "+---------+-------------------------+---------+\n",
      "only showing top 3 rows\n",
      "\n"
     ]
    }
   ],
   "source": [
    "# use filter/where\n",
    "#dfProduct#.filter(\"Color = 'Black'\")\\ \n",
    "#         .select('ProductID', 'Name', 'ListPrice')\\\n",
    "#         .show(truncate=False)\n",
    "dfProduct.where(dfProduct.Color=='Black')\\\n",
    "         .select('ProductID', 'Name', 'ListPrice')\\\n",
    "         .show(3, truncate=False)"
   ]
  },
  {
   "cell_type": "markdown",
   "id": "7ad29410",
   "metadata": {},
   "source": [
    "Transform on price, times 2."
   ]
  },
  {
   "cell_type": "code",
   "execution_count": 67,
   "id": "9b500a5c",
   "metadata": {},
   "outputs": [
    {
     "name": "stdout",
     "output_type": "stream",
     "text": [
      "+---------+-------------------------+---------------+\n",
      "|ProductID|Name                     |(ListPrice * 2)|\n",
      "+---------+-------------------------+---------------+\n",
      "|680      |HL Road Frame - Black, 58|2863.0         |\n",
      "|708      |Sport-100 Helmet, Black  |69.98          |\n",
      "|722      |LL Road Frame - Black, 58|674.44         |\n",
      "+---------+-------------------------+---------------+\n",
      "only showing top 3 rows\n",
      "\n"
     ]
    }
   ],
   "source": [
    "# without without giving a newname\n",
    "dfProduct.where(dfProduct.Color=='Black')\\\n",
    "         .select(dfProduct.ProductID, dfProduct['Name'], dfProduct['ListPrice'] * 2)\\\n",
    "         .show(3, truncate=False)"
   ]
  },
  {
   "cell_type": "code",
   "execution_count": 68,
   "id": "0e191354",
   "metadata": {},
   "outputs": [
    {
     "name": "stdout",
     "output_type": "stream",
     "text": [
      "+---------+-------------------------+----------+\n",
      "|ProductID|Name                     |DoublPrice|\n",
      "+---------+-------------------------+----------+\n",
      "|680      |HL Road Frame - Black, 58|2863.0    |\n",
      "|708      |Sport-100 Helmet, Black  |69.98     |\n",
      "|722      |LL Road Frame - Black, 58|674.44    |\n",
      "+---------+-------------------------+----------+\n",
      "only showing top 3 rows\n",
      "\n"
     ]
    }
   ],
   "source": [
    "# with giving a new name \"DoublePrice\"\n",
    "dfProduct.where(dfProduct.Color=='Black')\\\n",
    "         .select(dfProduct.ProductID, dfProduct['Name'], (dfProduct['ListPrice'] * 2).alias('DoublPrice'))\\\n",
    "         .show(3, truncate=False)"
   ]
  },
  {
   "cell_type": "markdown",
   "id": "dd0eaf88",
   "metadata": {},
   "source": [
    "Give BLACK items with DoublePrice larger than 100"
   ]
  },
  {
   "cell_type": "code",
   "execution_count": 69,
   "id": "86a02b4a",
   "metadata": {},
   "outputs": [
    {
     "name": "stdout",
     "output_type": "stream",
     "text": [
      "+---------+-------------------------+----------+\n",
      "|ProductID|Name                     |DoublPrice|\n",
      "+---------+-------------------------+----------+\n",
      "|680      |HL Road Frame - Black, 58|2863.0    |\n",
      "|722      |LL Road Frame - Black, 58|674.44    |\n",
      "|723      |LL Road Frame - Black, 60|674.44    |\n",
      "+---------+-------------------------+----------+\n",
      "only showing top 3 rows\n",
      "\n"
     ]
    }
   ],
   "source": [
    "#PYTHON expression in where.\n",
    "dfProduct.filter(\"Color = 'Black'\")\\\n",
    "         .where(dfProduct['ListPrice'] * 2 > 100)\\\n",
    "         .select(dfProduct.ProductID, dfProduct['Name'], (dfProduct['ListPrice'] * 2).alias('DoublPrice'))\\\n",
    "         .show(3, truncate=False)"
   ]
  },
  {
   "cell_type": "markdown",
   "id": "e9cfc0ff",
   "metadata": {},
   "source": [
    "SELECT ProductID, Name, ListPrice \n",
    "FROM Product \n",
    "WHERE Color = 'black' \n",
    "ORDER BY ProductID"
   ]
  },
  {
   "cell_type": "code",
   "execution_count": 70,
   "id": "f2231826",
   "metadata": {},
   "outputs": [
    {
     "name": "stdout",
     "output_type": "stream",
     "text": [
      "+---------+---------------------+---------+\n",
      "|ProductID|Name                 |ListPrice|\n",
      "+---------+---------------------+---------+\n",
      "|860      |Half-Finger Gloves, L|24.49    |\n",
      "|858      |Half-Finger Gloves, S|24.49    |\n",
      "|859      |Half-Finger Gloves, M|24.49    |\n",
      "+---------+---------------------+---------+\n",
      "only showing top 3 rows\n",
      "\n"
     ]
    }
   ],
   "source": [
    "#orderby the name of column.\n",
    "dfProduct.filter(\"Color = 'Black'\")\\\n",
    "         .select('ProductID', 'Name', 'ListPrice')\\\n",
    "         .orderBy('ListPrice')\\\n",
    "         .show(3, truncate=False)"
   ]
  },
  {
   "cell_type": "markdown",
   "id": "303dfa8c",
   "metadata": {},
   "source": [
    "Find all orders and details on black product,\n",
    "return the product SalesOrderID, SalesOrderDetailID, Name, UnitPrice, and OrderQty\n",
    "\n",
    "SELECT SalesOrderID, SalesOrderDetailID, Name, UnitPrice, OrderQty \n",
    "FROM SalesLT.SalesOrderDetail, SalesLT.Product\n",
    "WHERE SalesOrderDetail.ProductID = Product.ProductID AND Color = 'Black'\n",
    "\n",
    "SELECT SalesOrderID, SalesOrderDetailID, Name, UnitPrice, OrderQty \n",
    "FROM SalesLT.SalesOrderDetail\n",
    "JOIN SalesLT.Product ON SalesOrderDetail.ProductID = Product.ProductID\n",
    "WHERE Color = 'Black'\n",
    "\n",
    "Spark SQL supports natural joins"
   ]
  },
  {
   "cell_type": "code",
   "execution_count": 39,
   "id": "21a80fcb",
   "metadata": {},
   "outputs": [
    {
     "name": "stdout",
     "output_type": "stream",
     "text": [
      "+------------+------------------+--------------------+---------+--------+\n",
      "|SalesOrderID|SalesOrderDetailID|                Name|UnitPrice|OrderQty|\n",
      "+------------+------------------+--------------------+---------+--------+\n",
      "|       71938|            113295|Sport-100 Helmet,...|   29.994|       5|\n",
      "|       71902|            112988|Sport-100 Helmet,...|   20.994|       4|\n",
      "|       71797|            111082|Sport-100 Helmet,...|  20.2942|      12|\n",
      "+------------+------------------+--------------------+---------+--------+\n",
      "only showing top 3 rows\n",
      "\n"
     ]
    }
   ],
   "source": [
    "dfDetail.join(dfProduct, 'ProductID') \\\n",
    "        .select('SalesOrderID', 'SalesOrderDetailID', 'Name', 'UnitPrice', 'OrderQty') \\\n",
    "        .filter(\"Color='Black'\") \\\n",
    "        .show(3)\n",
    "# If we move the filter to after select, it still works.  Why?"
   ]
  },
  {
   "cell_type": "code",
   "execution_count": 45,
   "id": "da481a78",
   "metadata": {},
   "outputs": [
    {
     "name": "stdout",
     "output_type": "stream",
     "text": [
      "+------------+------------------+--------------------+---------+--------+\n",
      "|SalesOrderID|SalesOrderDetailID|                Name|UnitPrice|OrderQty|\n",
      "+------------+------------------+--------------------+---------+--------+\n",
      "|       71938|            113278|Sport-100 Helmet,...|   20.994|       3|\n",
      "|       71936|            113228|Sport-100 Helmet,...|   20.994|       1|\n",
      "|       71902|            112980|Sport-100 Helmet,...|   20.994|       2|\n",
      "+------------+------------------+--------------------+---------+--------+\n",
      "only showing top 3 rows\n",
      "\n",
      "+------------+------------------+--------------------+---------+--------+\n",
      "|SalesOrderID|SalesOrderDetailID|                Name|UnitPrice|OrderQty|\n",
      "+------------+------------------+--------------------+---------+--------+\n",
      "|       71938|            113295|Sport-100 Helmet,...|   29.994|       5|\n",
      "|       71902|            112988|Sport-100 Helmet,...|   20.994|       4|\n",
      "|       71797|            111082|Sport-100 Helmet,...|  20.2942|      12|\n",
      "+------------+------------------+--------------------+---------+--------+\n",
      "only showing top 3 rows\n",
      "\n"
     ]
    }
   ],
   "source": [
    "# This also works:\n",
    "\n",
    "d1 = dfDetail.join(dfProduct, 'ProductID') \\\n",
    "             .select('SalesOrderID', 'SalesOrderDetailID', 'Name', 'UnitPrice', 'OrderQty')\n",
    "d1.show(3)\n",
    "d2 = d1.filter(\"Color = 'Black'\")\n",
    "d2.show(3)\n",
    "#d2.explain()"
   ]
  },
  {
   "cell_type": "code",
   "execution_count": 50,
   "id": "06ce07c2",
   "metadata": {},
   "outputs": [
    {
     "name": "stdout",
     "output_type": "stream",
     "text": [
      "+------------+------------------+--------------------+---------+--------+\n",
      "|SalesOrderID|SalesOrderDetailID|                Name|UnitPrice|OrderQty|\n",
      "+------------+------------------+--------------------+---------+--------+\n",
      "|       71938|            113278|Sport-100 Helmet,...|   20.994|       3|\n",
      "|       71936|            113228|Sport-100 Helmet,...|   20.994|       1|\n",
      "|       71902|            112980|Sport-100 Helmet,...|   20.994|       2|\n",
      "+------------+------------------+--------------------+---------+--------+\n",
      "only showing top 3 rows\n",
      "\n",
      "+------------+------------------+--------------------+---------+--------+\n",
      "|SalesOrderID|SalesOrderDetailID|                Name|UnitPrice|OrderQty|\n",
      "+------------+------------------+--------------------+---------+--------+\n",
      "|       71784|            110794|Sport-100 Helmet,...|   20.994|      10|\n",
      "|       71783|            110751|Sport-100 Helmet,...|   20.994|      10|\n",
      "|       71797|            111082|Sport-100 Helmet,...|  20.2942|      12|\n",
      "+------------+------------------+--------------------+---------+--------+\n",
      "only showing top 3 rows\n",
      "\n"
     ]
    }
   ],
   "source": [
    "# SparkSQL performs optimization depending on whether intermediate dataframe are cached or not:\n",
    "\n",
    "d1 = dfDetail.join(dfProduct, 'ProductID') \\\n",
    "             .select('SalesOrderID', 'SalesOrderDetailID', 'Name', 'UnitPrice', 'OrderQty')\n",
    "d1.unpersist()\n",
    "d1.show(3)\n",
    "#d2 = d1.where(\"OrderQty >= 10\")\n",
    "d2 = d1.filter(\"Color = 'Black'\")\n",
    "d2.show(3)"
   ]
  },
  {
   "cell_type": "code",
   "execution_count": null,
   "id": "cff10b3b",
   "metadata": {},
   "outputs": [],
   "source": [
    "# This will report an error:\n",
    "# save to disk and read it back, now you cant find attribute color.\n",
    "d1 = dfDetail.join(dfProduct, 'ProductID') \\\n",
    "             .select('SalesOrderID', 'SalesOrderDetailID', 'Name', 'UnitPrice', 'OrderQty')\n",
    "d1.write.csv('temp.csv', mode = 'overwrite', header = True)\n",
    "d2 = spark.read.csv('temp.csv', header = True, inferSchema = True)\n",
    "d2.filter(\"Color = 'Black'\").show()"
   ]
  },
  {
   "cell_type": "code",
   "execution_count": null,
   "id": "3f01ca6e",
   "metadata": {},
   "outputs": [],
   "source": [
    "# This will report an error, too\n",
    "\n",
    "d1 = dfDetail.join(dfProduct, 'ProductID') \\\n",
    "             .select('SalesOrderID', 'SalesOrderDetailID', 'Name', 'UnitPrice', 'OrderQty')\n",
    "d2 = d1.filter(d1['Color'] == 'Black').show()\n",
    "#d2 = d1.filter(\"Color = 'Black'\").show() #Use SQL will work, d1 is a projection, can not passing col name.\n",
    "# Because the parser will try to find a column named 'Color' in d1, which doesn't exist"
   ]
  },
  {
   "cell_type": "markdown",
   "id": "038e3e12",
   "metadata": {},
   "source": [
    "Find all orders that include at least one black product, \n",
    "return the product SalesOrderID, Name, UnitPrice, and OrderQty\n",
    "\n",
    "SELECT DISTINCT SalesOrderID\n",
    "FROM SalesLT.SalesOrderDetail\n",
    "JOIN SalesLT.Product ON SalesOrderDetail.ProductID = Product.ProductID\n",
    "WHERE Color = 'Black'"
   ]
  },
  {
   "cell_type": "code",
   "execution_count": 55,
   "id": "2baf6275",
   "metadata": {},
   "outputs": [
    {
     "name": "stdout",
     "output_type": "stream",
     "text": [
      "+------------+\n",
      "|SalesOrderID|\n",
      "+------------+\n",
      "|       71902|\n",
      "|       71832|\n",
      "|       71915|\n",
      "+------------+\n",
      "only showing top 3 rows\n",
      "\n"
     ]
    }
   ],
   "source": [
    "dfDetail.join(dfProduct.filter(\"Color='Black'\"), 'ProductID') \\\n",
    "        .select('SalesOrderID') \\\n",
    "        .distinct() \\\n",
    "        .show(3)"
   ]
  },
  {
   "cell_type": "markdown",
   "id": "f64d0c65",
   "metadata": {},
   "source": [
    "How many colors in the products?\n",
    "\n",
    "SELECT COUNT(DISTINCT Color)\n",
    "FROM SalesLT.Product"
   ]
  },
  {
   "cell_type": "code",
   "execution_count": 72,
   "id": "2138e258",
   "metadata": {},
   "outputs": [
    {
     "data": {
      "text/plain": [
       "10"
      ]
     },
     "execution_count": 72,
     "metadata": {},
     "output_type": "execute_result"
    }
   ],
   "source": [
    "dfProduct.select('Color').distinct().count()\n",
    "# It's 1 more than standard SQL.  In standard SQL, COUNT() does not count NULLs."
   ]
  },
  {
   "cell_type": "markdown",
   "id": "12e89f01",
   "metadata": {},
   "source": [
    "Find the total price of each order, \n",
    "return SalesOrderID and total price (column name should be ‘totalprice’)\n",
    "\n",
    "SELECT SalesOrderID, SUM(UnitPrice*OrderQty*(1-UnitPriceDiscount)) AS TotalPrice\n",
    "FROM SalesLT.SalesOrderDetail\n",
    "GROUP BY SalesOrderID"
   ]
  },
  {
   "cell_type": "code",
   "execution_count": null,
   "id": "3ff40e7e",
   "metadata": {},
   "outputs": [],
   "source": [
    "dfDetail.select('*', (dfDetail.UnitPrice*dfDetail.OrderQty*(1-dfDetail.UnitPriceDiscount)).alias('netprice'))\\\n",
    "        .groupBy('SalesOrderID').sum('netprice') \\\n",
    "        .withColumnRenamed('sum(netprice)', 'TotalPrice')\\\n",
    "        .show(3)"
   ]
  },
  {
   "cell_type": "code",
   "execution_count": null,
   "id": "43aa9117",
   "metadata": {},
   "outputs": [],
   "source": [
    "Find the total price of each order where the total price > 10000\n",
    "\n",
    "SELECT SalesOrderID, SUM(UnitPrice*OrderQty*(1-UnitPriceDiscount)) AS TotalPrice\n",
    "FROM SalesLT.SalesOrderDetail\n",
    "GROUP BY SalesOrderID\n",
    "HAVING SUM(UnitPrice*OrderQty*(1-UnitPriceDiscount)) > 10000"
   ]
  },
  {
   "cell_type": "code",
   "execution_count": 90,
   "id": "88f955c0",
   "metadata": {},
   "outputs": [
    {
     "name": "stdout",
     "output_type": "stream",
     "text": [
      "+------------+------------------+\n",
      "|SalesOrderID|        TotalPrice|\n",
      "+------------+------------------+\n",
      "|       71902|59894.209199999976|\n",
      "|       71832|      28950.678108|\n",
      "|       71915|1732.8899999999999|\n",
      "+------------+------------------+\n",
      "only showing top 3 rows\n",
      "\n"
     ]
    }
   ],
   "source": [
    "dfDetail.select('*', (dfDetail.UnitPrice*dfDetail.OrderQty*(1-dfDetail.UnitPriceDiscount)).alias('netprice'))\\\n",
    "        .groupBy('SalesOrderID').sum('netprice')\\\n",
    "        .withColumnRenamed('sum(netprice)', 'TotalPrice')\\\n",
    "        .where('TotalPrice>1000')\\\n",
    "        .show(3)"
   ]
  },
  {
   "cell_type": "markdown",
   "id": "fe208f9b",
   "metadata": {},
   "source": [
    "Find the total price on the black products of each order where the total price > 10000\n",
    "\n",
    "SELECT SalesOrderID, SUM(UnitPrice*OrderQty*(1-UnitPriceDiscount)) AS TotalPrice\n",
    "FROM SalesLT.SalesOrderDetail, SalesLT.Product\n",
    "WHERE SalesLT.SalesOrderDetail.ProductID = SalesLT.Product.ProductID AND Color = 'Black'\n",
    "GROUP BY SalesOrderID\n",
    "HAVING SUM(UnitPrice*OrderQty*(1-UnitPriceDiscount)) > 10000"
   ]
  },
  {
   "cell_type": "code",
   "execution_count": 111,
   "id": "fa7468bb",
   "metadata": {},
   "outputs": [
    {
     "name": "stdout",
     "output_type": "stream",
     "text": [
      "+------------+------------------+\n",
      "|SalesOrderID|        TotalPrice|\n",
      "+------------+------------------+\n",
      "|       71902|26677.883999999995|\n",
      "|       71832|      16883.748108|\n",
      "|       71831|          1712.946|\n",
      "+------------+------------------+\n",
      "only showing top 3 rows\n",
      "\n"
     ]
    }
   ],
   "source": [
    "dfDetail.select('*', (dfDetail.UnitPrice*dfDetail.OrderQty*(1-dfDetail.UnitPriceDiscount)).alias('netprice'))\\\n",
    "        .join(dfProduct, 'ProductID')\\\n",
    "        .filter(\"Color='Black'\")\\\n",
    "        .groupBy('SalesOrderID').sum('netprice')\\\n",
    "        .withColumnRenamed('sum(netprice)', 'TotalPrice')\\\n",
    "        .where('TotalPrice>1000')\\\n",
    "        .show(3)"
   ]
  },
  {
   "cell_type": "markdown",
   "id": "c2632cfb",
   "metadata": {},
   "source": [
    "For each customer, find the total quantity of black products bought.\n",
    "Report CustomerID, FirstName, LastName, and total quantity\n",
    "\n",
    "SELECT saleslt.customer.customerid, FirstName, LastName, sum(orderqty)\n",
    "FROM saleslt.customer\n",
    "LEFT OUTER JOIN \n",
    "(\n",
    "saleslt.salesorderheader\n",
    "JOIN saleslt.salesorderdetail\n",
    "ON saleslt.salesorderdetail.salesorderid = saleslt.salesorderheader.salesorderid\n",
    "JOIN saleslt.product\n",
    "ON saleslt.product.productid = saleslt.salesorderdetail.productid and color = 'black'\n",
    ")\n",
    "ON saleslt.customer.customerid = saleslt.salesorderheader.customerid\n",
    "GROUP BY saleslt.customer.customerid, FirstName, LastName\n",
    "ORDER BY sum(orderqty) "
   ]
  },
  {
   "cell_type": "code",
   "execution_count": 121,
   "id": "5b17ca4f",
   "metadata": {},
   "outputs": [
    {
     "name": "stdout",
     "output_type": "stream",
     "text": [
      "+----------+---------+------------+-------------+\n",
      "|CustomerID|FirstName|    LastName|sum(OrderQty)|\n",
      "+----------+---------+------------+-------------+\n",
      "|     30050|  Krishna|Sunkammurali|           89|\n",
      "|     29796|      Jon|      Grande|           65|\n",
      "|     29957|    Kevin|         Liu|           62|\n",
      "+----------+---------+------------+-------------+\n",
      "only showing top 3 rows\n",
      "\n"
     ]
    }
   ],
   "source": [
    "#left outer join\n",
    "d1 = dfDetail.join(dfProduct, 'ProductID')\\\n",
    "             .where('Color = \"Black\"') \\\n",
    "             .join(dfHeader, 'SalesOrderID')\\\n",
    "             .groupBy('CustomerID').sum('OrderQty')\n",
    "dfCustomer.join(d1, 'CustomerID', 'left_outer')\\\n",
    "          .select('CustomerID', 'FirstName', 'LastName', 'sum(OrderQty)')\\\n",
    "          .orderBy('sum(OrderQty)', ascending=False)\\\n",
    "          .show(3)"
   ]
  },
  {
   "cell_type": "markdown",
   "id": "b32fe894",
   "metadata": {},
   "source": [
    "# Quiz"
   ]
  },
  {
   "cell_type": "code",
   "execution_count": 3,
   "id": "cf2f2879",
   "metadata": {},
   "outputs": [],
   "source": [
    "df = spark.read.csv('../data/sales.csv', header=True, inferSchema=True)"
   ]
  },
  {
   "cell_type": "code",
   "execution_count": 124,
   "id": "518ecdd9",
   "metadata": {},
   "outputs": [
    {
     "name": "stdout",
     "output_type": "stream",
     "text": [
      "root\n",
      " |-- Transaction_date: string (nullable = true)\n",
      " |-- Product: string (nullable = true)\n",
      " |-- Price: integer (nullable = true)\n",
      " |-- Payment_Type: string (nullable = true)\n",
      " |-- Name: string (nullable = true)\n",
      " |-- City: string (nullable = true)\n",
      " |-- State: string (nullable = true)\n",
      " |-- Country: string (nullable = true)\n",
      " |-- Account_Created: string (nullable = true)\n",
      " |-- Last_Login: string (nullable = true)\n",
      " |-- Latitude: double (nullable = true)\n",
      " |-- Longitude: double (nullable = true)\n",
      "\n"
     ]
    }
   ],
   "source": [
    "df.printSchema()"
   ]
  },
  {
   "cell_type": "code",
   "execution_count": 127,
   "id": "63d7fdd1",
   "metadata": {},
   "outputs": [
    {
     "data": {
      "text/plain": [
       "34"
      ]
     },
     "execution_count": 127,
     "metadata": {},
     "output_type": "execute_result"
    }
   ],
   "source": [
    "# Q1\n",
    "#Find all distinct countries.\n",
    "df.select('Country').distinct().count()"
   ]
  },
  {
   "cell_type": "code",
   "execution_count": 133,
   "id": "545334df",
   "metadata": {},
   "outputs": [
    {
     "name": "stdout",
     "output_type": "stream",
     "text": [
      "+-------+-----+\n",
      "|   Name|Price|\n",
      "+-------+-----+\n",
      "|Joachim| 1200|\n",
      "|  Diana| 7500|\n",
      "+-------+-----+\n",
      "\n"
     ]
    }
   ],
   "source": [
    "# Q2\n",
    "#Find the Name and Price of sales records in Brazil.\n",
    "df.where(\"Country = 'Brazil'\").select('Name', 'Price').show()"
   ]
  },
  {
   "cell_type": "code",
   "execution_count": 21,
   "id": "d3e10bc3",
   "metadata": {},
   "outputs": [
    {
     "name": "stdout",
     "output_type": "stream",
     "text": [
      "+--------+----------+\n",
      "| Country|TotalPrice|\n",
      "+--------+----------+\n",
      "|  Sweden|      8400|\n",
      "|  Jersey|      1200|\n",
      "|Malaysia|      1200|\n",
      "+--------+----------+\n",
      "only showing top 3 rows\n",
      "\n"
     ]
    }
   ],
   "source": [
    "# Q3\n",
    "#For each country, find the total Price.\n",
    "df.groupBy('Country').sum('Price')\\\n",
    "  .withColumnRenamed('sum(Price)', 'TotalPrice')\\\n",
    "  .show(3)"
   ]
  },
  {
   "cell_type": "code",
   "execution_count": 136,
   "id": "622eeb55",
   "metadata": {},
   "outputs": [
    {
     "name": "stdout",
     "output_type": "stream",
     "text": [
      "+--------------+----------+\n",
      "|       Country|TotalPrice|\n",
      "+--------------+----------+\n",
      "| United States|    350350|\n",
      "|United Kingdom|     63600|\n",
      "|        Canada|     42000|\n",
      "+--------------+----------+\n",
      "only showing top 3 rows\n",
      "\n"
     ]
    }
   ],
   "source": [
    "# Q4\n",
    "#List countries by their total Price in descending order.\n",
    "df.groupBy('Country').sum('Price')\\\n",
    "  .withColumnRenamed('sum(Price)', 'TotalPrice')\\\n",
    "  .orderBy('TotalPrice', ascending = False)\\\n",
    "  .show(3)"
   ]
  },
  {
   "cell_type": "code",
   "execution_count": 2,
   "id": "186acf76",
   "metadata": {},
   "outputs": [],
   "source": [
    "# Q5\n",
    "#Redo Question 3, but replace the country names by their IDs.\n",
    "#For each country, find the total Price.\n",
    "df2 = spark.read.csv('../data/countries.csv', header=True, inferSchema=True)"
   ]
  },
  {
   "cell_type": "code",
   "execution_count": 7,
   "id": "0d878d5f",
   "metadata": {},
   "outputs": [
    {
     "name": "stdout",
     "output_type": "stream",
     "text": [
      "root\n",
      " |-- Country: string (nullable = true)\n",
      " |-- ID: integer (nullable = true)\n",
      "\n"
     ]
    }
   ],
   "source": [
    "df2.printSchema()"
   ]
  },
  {
   "cell_type": "code",
   "execution_count": 34,
   "id": "8a1f1b6c",
   "metadata": {
    "scrolled": true
   },
   "outputs": [
    {
     "name": "stdout",
     "output_type": "stream",
     "text": [
      "+---+----------+\n",
      "| ID|TotalPrice|\n",
      "+---+----------+\n",
      "| 31|      1200|\n",
      "| 34|      2400|\n",
      "| 28|      3600|\n",
      "+---+----------+\n",
      "only showing top 3 rows\n",
      "\n"
     ]
    }
   ],
   "source": [
    "df.join(df2, 'Country').groupBy('ID').sum('Price').withColumnRenamed('sum(Price)', 'TotalPrice').show(3)"
   ]
  },
  {
   "cell_type": "code",
   "execution_count": 46,
   "id": "333b1118",
   "metadata": {},
   "outputs": [],
   "source": [
    "# Q6\n",
    "#Rewrite the PageRank example using DataFrame API.  Here is a skeleton of the code.  \n",
    "#Your job is to fill in the missing part.  The data files can be downloaded at:\n",
    "from pyspark.sql.functions import *\n",
    "\n",
    "numOfIterations = 10\n",
    "\n",
    "lines = spark.read.text(\"../data/pagerank_data.txt\")\n",
    "# You can also test your program on the follow larger data set:\n",
    "# lines = spark.read.text(\"dblp.in\")\n",
    "\n",
    "a = lines.select(split(lines[0],' '))\n",
    "links = a.select(a[0][0].alias('src'), a[0][1].alias('dst'))\n",
    "outdegrees = links.groupBy('src').count()\n",
    "ranks = outdegrees.select('src', lit(1).alias('rank'))\n",
    "\n",
    "#for iteration in range(numOfIterations):\n",
    "# FILL IN THIS PART\n",
    "\n",
    "#ranks.orderBy(desc('rank')).show()"
   ]
  },
  {
   "cell_type": "code",
   "execution_count": 96,
   "id": "3d4bff7f",
   "metadata": {},
   "outputs": [],
   "source": [
    "for iteration in range(10):\n",
    "    normalized_ranks = ranks.join(outdegrees, 'src')\\\n",
    "                            .withColumn('w', col('rank')/col('count')).select('src', 'w')\n",
    "    ranks = links.join(normalized_ranks, 'src')\\\n",
    "                .groupBy('dst')\\\n",
    "                .sum('w')\\\n",
    "                .withColumn('rank', 0.15+0.85*col('sum(w)'))\\\n",
    "                .withColumnRenamed('dst', 'src')\\\n",
    "                .select('src', 'rank')\n"
   ]
  },
  {
   "cell_type": "code",
   "execution_count": 97,
   "id": "a9c6ef94",
   "metadata": {},
   "outputs": [
    {
     "name": "stdout",
     "output_type": "stream",
     "text": [
      "+---+------------------+\n",
      "|src|              rank|\n",
      "+---+------------------+\n",
      "|  1|1.2982699838536758|\n",
      "|  4|0.9999999999999998|\n",
      "|  3|0.9999999999999997|\n",
      "|  2|0.7017300161463238|\n",
      "+---+------------------+\n",
      "\n"
     ]
    }
   ],
   "source": [
    "ranks.orderBy(desc('rank')).show()"
   ]
  }
 ],
 "metadata": {
  "kernelspec": {
   "display_name": "Python 3",
   "language": "python",
   "name": "python3"
  },
  "language_info": {
   "codemirror_mode": {
    "name": "ipython",
    "version": 3
   },
   "file_extension": ".py",
   "mimetype": "text/x-python",
   "name": "python",
   "nbconvert_exporter": "python",
   "pygments_lexer": "ipython3",
   "version": "3.8.11"
  }
 },
 "nbformat": 4,
 "nbformat_minor": 5
}
