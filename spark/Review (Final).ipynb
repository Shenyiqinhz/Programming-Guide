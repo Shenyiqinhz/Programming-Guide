{
 "cells": [
  {
   "cell_type": "markdown",
   "id": "14189fab",
   "metadata": {},
   "source": [
    "# Q1"
   ]
  },
  {
   "cell_type": "markdown",
   "id": "e16dca31",
   "metadata": {},
   "source": [
    "## (1)"
   ]
  },
  {
   "cell_type": "markdown",
   "id": "ccbf853c",
   "metadata": {},
   "source": [
    "Use DataFrame API to generate a report of the distribution of customers by the number of orders they have made, including customers who have no record of orders.  The output should be displayed in descending order by numbers of customers first, then in descending order by numbers of orders per customer made. "
   ]
  },
  {
   "cell_type": "code",
   "execution_count": 2,
   "id": "7a5690ee",
   "metadata": {},
   "outputs": [],
   "source": [
    "dfCustomer = spark.read.csv('../data/customer.csv', header=True, inferSchema=True)\n",
    "dfOrders = spark.read.csv('../data/orders.csv', header=True, inferSchema=True)"
   ]
  },
  {
   "cell_type": "code",
   "execution_count": 51,
   "id": "37cdc3df",
   "metadata": {},
   "outputs": [],
   "source": [
    "#dfCustomer.printSchema()\n",
    "#dfCustomer.show(1)"
   ]
  },
  {
   "cell_type": "code",
   "execution_count": 52,
   "id": "896d585d",
   "metadata": {},
   "outputs": [],
   "source": [
    "#dfOrders.printSchema()\n",
    "#dfOrders.show()"
   ]
  },
  {
   "cell_type": "code",
   "execution_count": 30,
   "id": "aa1fb550",
   "metadata": {},
   "outputs": [],
   "source": [
    "df = dfCustomer.join(dfOrders, 'CUSTKEY', 'left_outer').select('CUSTKEY', 'ORDERKEY')\n",
    "#df.count()"
   ]
  },
  {
   "cell_type": "code",
   "execution_count": 86,
   "id": "6344112d",
   "metadata": {},
   "outputs": [],
   "source": [
    "df1 = df.groupBy('CUSTKEY').count().withColumnRenamed('count', 'oCount')\n",
    "df2 = df.join(df1, 'CUSTKEY', 'left_outer')\n",
    "#df2.count()"
   ]
  },
  {
   "cell_type": "code",
   "execution_count": 87,
   "id": "8dc5ce60",
   "metadata": {},
   "outputs": [],
   "source": [
    "#df2.orderBy('oCount', ascending=False).show(5)"
   ]
  },
  {
   "cell_type": "code",
   "execution_count": 100,
   "id": "68a8896e",
   "metadata": {
    "scrolled": true
   },
   "outputs": [
    {
     "name": "stdout",
     "output_type": "stream",
     "text": [
      "+------+------+\n",
      "|oCount|cCount|\n",
      "+------+------+\n",
      "|    20|  1100|\n",
      "+------+------+\n",
      "only showing top 1 row\n",
      "\n"
     ]
    }
   ],
   "source": [
    "df3 = df2.select('ORDERKEY','oCount')\\\n",
    ".groupBy('oCount')\\\n",
    ".count().withColumnRenamed('count', 'cCount').orderBy(['cCount','oCount'],ascending=False)\\\n",
    ".show(1)"
   ]
  },
  {
   "cell_type": "markdown",
   "id": "7b2896bf",
   "metadata": {},
   "source": [
    "## (2) "
   ]
  },
  {
   "cell_type": "markdown",
   "id": "3b4b2813",
   "metadata": {},
   "source": [
    "In the example relational database used in the lectures, each customer is served by a salesperson, which is recorded in the \"SalesPerson\" column in the \"Customer\" table (see the database schema below).\n",
    "\n",
    "Use DataFrame API to generate a report of each salesperson's performance, which is the total net price of his/her customer's orders.  Note that the an order consists of multiple order details, and the net price of an order detail is UnitPrice * OrderQty * (1 - UnitPriceDiscount).\n",
    "\n",
    "All salespeople should be reported, even if they have 0 order."
   ]
  },
  {
   "cell_type": "code",
   "execution_count": 102,
   "id": "349286f6",
   "metadata": {},
   "outputs": [],
   "source": [
    "dfCustomer = spark.read.csv('../data/Customer.csv', header=True, inferSchema=True)\n",
    "dfDetail = spark.read.csv('../data/SalesOrderDetail.csv', header=True, inferSchema=True)\n",
    "dfHeader = spark.read.csv('../data/SalesOrderHeader.csv', header=True, inferSchema=True)"
   ]
  },
  {
   "cell_type": "code",
   "execution_count": 128,
   "id": "a5e9fe0a",
   "metadata": {},
   "outputs": [],
   "source": [
    "#dfCustomer.printSchema()\n",
    "#dfDetail.printSchema()\n",
    "#dfHeader.printSchema()"
   ]
  },
  {
   "cell_type": "code",
   "execution_count": 129,
   "id": "808e7f67",
   "metadata": {},
   "outputs": [],
   "source": [
    "df1 = dfDetail.select('*', (dfDetail.UnitPrice*dfDetail.OrderQty*(1-dfDetail.UnitPriceDiscount)).alias('netprice'))\\\n",
    "        .groupBy('SalesOrderID').sum('netprice') \\\n",
    "        .withColumnRenamed('sum(netprice)', 'TotalPrice')\\\n",
    "        #.show(3)"
   ]
  },
  {
   "cell_type": "code",
   "execution_count": 130,
   "id": "1ecabc85",
   "metadata": {},
   "outputs": [],
   "source": [
    "df2 = dfHeader.join(df1, 'SalesOrderID', 'left_outer').select('CustomerID', 'TotalPrice')\\\n",
    ".groupBy('CustomerID').sum('TotalPrice')\\\n",
    ".withColumnRenamed('sum(TotalPrice)', 'CustomerPrice')"
   ]
  },
  {
   "cell_type": "code",
   "execution_count": 131,
   "id": "e6274078",
   "metadata": {},
   "outputs": [
    {
     "name": "stdout",
     "output_type": "stream",
     "text": [
      "+--------------------+------------------+\n",
      "|         SalesPerson|       Performance|\n",
      "+--------------------+------------------+\n",
      "|adventure-works\\l...|170064.83797000002|\n",
      "|adventure-works\\p...|              null|\n",
      "|adventure-works\\d...|              null|\n",
      "|adventure-works\\shu0|112646.20642399997|\n",
      "|adventure-works\\m...|              null|\n",
      "|adventure-works\\j...|              null|\n",
      "|adventure-works\\j...|              null|\n",
      "|adventure-works\\jae0|     426024.108664|\n",
      "|adventure-works\\g...|              null|\n",
      "+--------------------+------------------+\n",
      "\n"
     ]
    }
   ],
   "source": [
    "df3 = dfCustomer.join(df2, 'CustomerID', 'left_outer').groupBy('SalesPerson').sum('CustomerPrice')\\\n",
    ".withColumnRenamed('sum(CustomerPrice)', 'Performance').show()"
   ]
  },
  {
   "cell_type": "markdown",
   "id": "9c0b3d3e",
   "metadata": {},
   "source": [
    "# Q2"
   ]
  },
  {
   "cell_type": "markdown",
   "id": "d0dffc4b",
   "metadata": {},
   "source": [
    "## (1)"
   ]
  },
  {
   "cell_type": "markdown",
   "id": "9644855d",
   "metadata": {},
   "source": [
    "Given a 2-dimensional point set, its Skyline is a point set defined as those points which are not dominated by any other point.  Here, a point (x1,y1) dominates another point (x2,y2) if x1 >= x2 and y1 >= y2."
   ]
  },
  {
   "cell_type": "markdown",
   "id": "5fed25ea",
   "metadata": {},
   "source": [
    "Use divide-and-conquer to find the Skyline of the given point set.  For each test case, we guarantee that all points (x,y) have x > 0 and y > 0. The skeleton code is provided below."
   ]
  },
  {
   "cell_type": "code",
   "execution_count": 132,
   "id": "3999446f",
   "metadata": {},
   "outputs": [
    {
     "data": {
      "text/plain": [
       "PythonRDD[832] at RDD at PythonRDD.scala:53"
      ]
     },
     "execution_count": 132,
     "metadata": {},
     "output_type": "execute_result"
    }
   ],
   "source": [
    "numPartitions = 10\n",
    "\n",
    "points = sc.textFile('../data/points.txt',numPartitions)\n",
    "pairs = points.map(lambda l: tuple(l.split()))\n",
    "pairs = pairs.map(lambda pair: (int(pair[0]),int(pair[1])))\n",
    "pairs.cache()\n",
    "# YOUR CODE BEGINS HERE"
   ]
  },
  {
   "cell_type": "code",
   "execution_count": 151,
   "id": "cabe0e8e",
   "metadata": {},
   "outputs": [],
   "source": [
    "sortedPairs = pairs.sortByKey(ascending=False)"
   ]
  },
  {
   "cell_type": "code",
   "execution_count": 152,
   "id": "2b0bb8a9",
   "metadata": {},
   "outputs": [
    {
     "data": {
      "text/plain": [
       "[(99990, 53983),\n",
       " (99989, 21634),\n",
       " (99978, 19775),\n",
       " (99977, 59457),\n",
       " (99969, 11482),\n",
       " (99958, 59581),\n",
       " (99958, 26054),\n",
       " (99956, 79605),\n",
       " (99949, 52743),\n",
       " (99942, 21085)]"
      ]
     },
     "execution_count": 152,
     "metadata": {},
     "output_type": "execute_result"
    }
   ],
   "source": [
    "sortedPairs.take(10)"
   ]
  },
  {
   "cell_type": "code",
   "execution_count": 191,
   "id": "7d6cd8ee",
   "metadata": {},
   "outputs": [],
   "source": [
    "def f(i):\n",
    "    y = 0\n",
    "    for x in i:\n",
    "        if x[1] > y:\n",
    "            y = x[1]\n",
    "            yield x\n",
    "localresults = sortedPairs.mapPartitions(f).collect()  "
   ]
  },
  {
   "cell_type": "code",
   "execution_count": 192,
   "id": "c5a5dd84",
   "metadata": {},
   "outputs": [],
   "source": [
    "result = []\n",
    "y = 0\n",
    "for x in localresults:\n",
    "    if x[1] > y:\n",
    "        y = x[1]\n",
    "        result.append(x)"
   ]
  },
  {
   "cell_type": "code",
   "execution_count": 193,
   "id": "a5cff0ee",
   "metadata": {},
   "outputs": [
    {
     "data": {
      "text/plain": [
       "[(99990, 53983),\n",
       " (99977, 59457),\n",
       " (99958, 59581),\n",
       " (99956, 79605),\n",
       " (99885, 83645),\n",
       " (99827, 89705),\n",
       " (99740, 98217),\n",
       " (99662, 98973),\n",
       " (96815, 99398),\n",
       " (96167, 99795),\n",
       " (92693, 99960),\n",
       " (92580, 99974),\n",
       " (59920, 99992),\n",
       " (45834, 100000)]"
      ]
     },
     "execution_count": 193,
     "metadata": {},
     "output_type": "execute_result"
    }
   ],
   "source": [
    "result"
   ]
  },
  {
   "cell_type": "code",
   "execution_count": 195,
   "id": "593ad412",
   "metadata": {},
   "outputs": [
    {
     "data": {
      "text/plain": [
       "[(11, 10)]"
      ]
     },
     "execution_count": 195,
     "metadata": {},
     "output_type": "execute_result"
    }
   ],
   "source": [
    "pairs = sc.parallelize([(1, 10), (2, 10), (3, 10), (4, 10), (5, 10), (6, 10), (7, 10), (8, 10), (9, 10), (10, 10), (11, 10)],numPartitions)\n",
    "localresults = pairs.sortByKey(ascending=False).mapPartitions(f).collect()\n",
    "result = []\n",
    "y = 0\n",
    "for x in localresults:\n",
    "    if x[1] > y:\n",
    "        y = x[1]\n",
    "        result.append(x)\n",
    "result"
   ]
  },
  {
   "cell_type": "markdown",
   "id": "e31f61d6",
   "metadata": {},
   "source": [
    "## (2) "
   ]
  },
  {
   "cell_type": "markdown",
   "id": "c6405409",
   "metadata": {},
   "source": [
    "In social networks, \"zombies\" are users that follow many other users, but are not followed by anybody. Given a graph representing a social network, find the largest zombie, i.e., the user who follows the most other users but is not followed by anybody, and output all users it follows."
   ]
  },
  {
   "cell_type": "code",
   "execution_count": 207,
   "id": "23663ea0",
   "metadata": {
    "scrolled": true
   },
   "outputs": [
    {
     "name": "stdout",
     "output_type": "stream",
     "text": [
      "+---+\n",
      "|dst|\n",
      "+---+\n",
      "|  c|\n",
      "|  d|\n",
      "|  b|\n",
      "+---+\n",
      "\n"
     ]
    }
   ],
   "source": [
    "sc.addPyFile(\"/opt/homebrew/Cellar/apache-spark/3.1.2/libexec/jars/graphframes-0.8.0-spark3.0-s_2.12.jar\")\n",
    "from graphframes import *\n",
    "# Vertices DataFrame\n",
    "v = spark.createDataFrame([\n",
    " (\"a\", \"Alice\", 34),\n",
    " (\"b\", \"Bob\", 36),\n",
    " (\"c\", \"Charlie\", 37),\n",
    " (\"d\", \"David\", 29),\n",
    " (\"e\", \"Esther\", 32),\n",
    " (\"f\", \"Fanny\", 38),\n",
    " (\"g\", \"Gabby\", 60)\n",
    "], [\"id\", \"name\", \"age\"])\n",
    "\n",
    "# Edges DataFrame\n",
    "e = spark.createDataFrame([\n",
    " (\"a\", \"b\", \"follow\"),\n",
    " (\"c\", \"a\", \"friend\"),\n",
    " (\"b\", \"c\", \"follow\"),\n",
    " (\"d\", \"a\", \"follow\"),\n",
    " (\"f\", \"c\", \"follow\"),\n",
    " (\"f\", \"d\", \"follow\"),\n",
    " (\"f\", \"b\", \"follow\"),\n",
    " (\"c\", \"d\", \"follow\"),\n",
    " (\"g\", \"a\", \"friend\"),\n",
    " (\"g\", \"d\", \"friend\"),\n",
    " (\"g\", \"c\", \"friend\"),\n",
    " (\"e\", \"a\", \"follow\"),\n",
    " (\"e\", \"d\", \"follow\")\n",
    "], [\"src\", \"dst\", \"relationship\"])\n",
    "g = GraphFrame(v, e)\n",
    "e1 = g.edges.filter(\"relationship = 'follow'\")\n",
    "v1 = e1.groupBy('dst').count().select('dst')\n",
    "v2 = e1.groupBy('src').count().orderBy('count', ascending=False)\n",
    "v3 = v2.select('src').subtract(v1)\n",
    "v4 = v3.join(v2,'src').first()\n",
    "e.filter(e['src']==v4.src).select('dst').show()"
   ]
  },
  {
   "cell_type": "markdown",
   "id": "a87c9486",
   "metadata": {},
   "source": [
    "# Q3"
   ]
  },
  {
   "cell_type": "markdown",
   "id": "0a2f5385",
   "metadata": {},
   "source": [
    "## (1)"
   ]
  },
  {
   "cell_type": "markdown",
   "id": "67b4d7ef",
   "metadata": {},
   "source": [
    "Load it into spark and use divide-and-conquer to find the number of points located in a given triangle ABC. All the points are in 2 dimensions. The skeleton code is provided below.  "
   ]
  },
  {
   "cell_type": "code",
   "execution_count": 219,
   "id": "ca7a7caf",
   "metadata": {},
   "outputs": [
    {
     "data": {
      "text/plain": [
       "PythonRDD[1385] at RDD at PythonRDD.scala:53"
      ]
     },
     "execution_count": 219,
     "metadata": {},
     "output_type": "execute_result"
    }
   ],
   "source": [
    "numPartitions = 10\n",
    "A = (0,0)\n",
    "B = (10000,0)\n",
    "C = (0,10000)\n",
    "\n",
    "points = sc.textFile('../data/points.txt',numPartitions)\n",
    "pairs = points.map(lambda l: tuple(l.split()))\n",
    "pairs = pairs.map(lambda pair: (int(pair[0]),int(pair[1])))\n",
    "pairs.cache()"
   ]
  },
  {
   "cell_type": "code",
   "execution_count": 220,
   "id": "240b92e4",
   "metadata": {},
   "outputs": [
    {
     "data": {
      "text/plain": [
       "[(1915, 54625), (83327, 40420), (87760, 43005), (116, 57502)]"
      ]
     },
     "execution_count": 220,
     "metadata": {},
     "output_type": "execute_result"
    }
   ],
   "source": [
    "pairs.take(4)"
   ]
  },
  {
   "cell_type": "code",
   "execution_count": 223,
   "id": "e27a497c",
   "metadata": {},
   "outputs": [],
   "source": [
    "def f(i):\n",
    "    for x in i:\n",
    "        if x[0]+x[1] < 10000:\n",
    "            yield x\n",
    "p = pairs.mapPartitions(f).collect()"
   ]
  },
  {
   "cell_type": "code",
   "execution_count": 224,
   "id": "c5b7ec8e",
   "metadata": {},
   "outputs": [
    {
     "data": {
      "text/plain": [
       "41"
      ]
     },
     "execution_count": 224,
     "metadata": {},
     "output_type": "execute_result"
    }
   ],
   "source": [
    "len(p)"
   ]
  },
  {
   "cell_type": "code",
   "execution_count": 226,
   "id": "3f42f60c",
   "metadata": {},
   "outputs": [
    {
     "name": "stdout",
     "output_type": "stream",
     "text": [
      "41\n"
     ]
    }
   ],
   "source": [
    "def CrossProduct(x, y) :\n",
    "    return x[0]*y[1] - y[0]*x[1]\n",
    "    \n",
    "def VectorMinus(x, y) :\n",
    "    return (x[0]-y[0], x[1]-y[1])\n",
    "from operator import add\n",
    "def f(iterator):\n",
    "    result = 0\n",
    "    for P in iterator :\n",
    "        PA = VectorMinus(A,P)\n",
    "        PB = VectorMinus(B,P)\n",
    "        PC = VectorMinus(C,P)\n",
    "        ab = CrossProduct(PA,PB)\n",
    "        bc = CrossProduct(PB,PC)\n",
    "        ca = CrossProduct(PC,PA)\n",
    "        if (ab * bc >= 0 and ab * ca >= 0):\n",
    "            result = result + 1\n",
    "    yield result\n",
    "    \n",
    "result = pairs.mapPartitions(f)\n",
    "result = result.reduce(add)\n",
    "print(result)"
   ]
  },
  {
   "cell_type": "markdown",
   "id": "0c0a4892",
   "metadata": {},
   "source": [
    "## (2)"
   ]
  },
  {
   "cell_type": "markdown",
   "id": "288a524f",
   "metadata": {},
   "source": [
    "In social networks, the service provider will recommend possible friends for you. If a user and you have at least one common friend, and he is following you, then he might be your friend.  Note that \"friend\" relationships are two-way (i.e., it is guaranteed that if there is a 'friend' edge from A to B, there must be an 'friend' edge from B to A), while \"follow\" relationships are one-way.\n",
    "\n",
    "Given the following graph representing a social network, find all possible friends for all users. Your program should output all pairs of users (A, B), where B is recommended to A.  In the output, report the users using their names."
   ]
  },
  {
   "cell_type": "code",
   "execution_count": 229,
   "id": "eca10eb7",
   "metadata": {},
   "outputs": [],
   "source": [
    "from graphframes import *\n",
    "v = spark.createDataFrame([\n",
    " (\"a\", \"Alice\", 34),\n",
    " (\"b\", \"Bob\", 36),\n",
    " (\"c\", \"Charlie\", 37),\n",
    " (\"d\", \"David\", 29),\n",
    " (\"e\", \"Esther\", 32),\n",
    " (\"f\", \"Fanny\", 38),\n",
    " (\"g\", \"Gabby\", 60)\n",
    "], [\"id\", \"name\", \"age\"])\n",
    "\n",
    "# Edges DataFrame\n",
    "e = spark.createDataFrame([\n",
    " (\"a\", \"b\", \"follow\"),\n",
    " (\"a\", \"c\", \"friend\"),\n",
    " (\"a\", \"g\", \"friend\"),\n",
    " (\"b\", \"c\", \"friend\"),\n",
    " (\"c\", \"a\", \"friend\"),\n",
    " (\"c\", \"b\", \"friend\"),\n",
    " (\"c\", \"d\", \"follow\"),\n",
    " (\"c\", \"g\", \"friend\"),\n",
    " (\"d\", \"a\", \"follow\"),\n",
    " (\"d\", \"g\", \"friend\"),\n",
    " (\"e\", \"a\", \"follow\"),\n",
    " (\"e\", \"d\", \"follow\"),\n",
    " (\"f\", \"b\", \"follow\"),\n",
    " (\"f\", \"c\", \"follow\"),\n",
    " (\"f\", \"d\", \"follow\"),\n",
    " (\"g\", \"a\", \"friend\"),\n",
    " (\"g\", \"c\", \"friend\"),\n",
    " (\"g\", \"d\", \"friend\")\n",
    "], [\"src\", \"dst\", \"relationship\"])\n",
    "# Create a GraphFrame\n",
    "g = GraphFrame(v, e)"
   ]
  },
  {
   "cell_type": "code",
   "execution_count": 243,
   "id": "33e5130c",
   "metadata": {},
   "outputs": [
    {
     "name": "stdout",
     "output_type": "stream",
     "text": [
      "+-----+-------+\n",
      "| name|   name|\n",
      "+-----+-------+\n",
      "|David|Charlie|\n",
      "|Alice|  David|\n",
      "|  Bob|  Alice|\n",
      "+-----+-------+\n",
      "\n"
     ]
    }
   ],
   "source": [
    "g.find(\"(a)-[e1]->(c); (b)-[e2]->(c); (b)-[e3]->(a)\")\\\n",
    ".where(\"e1.relationship='friend'\")\\\n",
    ".where(\"e2.relationship='friend'\")\\\n",
    ".where(\"e3.relationship='follow'\")\\\n",
    ".select('a.name', 'b.name')\\\n",
    ".show()"
   ]
  },
  {
   "cell_type": "code",
   "execution_count": 270,
   "id": "996baf5d",
   "metadata": {},
   "outputs": [],
   "source": [
    "# Q2\n",
    "from pyspark.sql.functions import *\n",
    "v = spark.createDataFrame([\n",
    " (\"a\", \"Alice\", 34),\n",
    " (\"b\", \"Bob\", 36),\n",
    " (\"c\", \"Charlie\", 37),\n",
    " (\"d\", \"David\", 29),\n",
    " (\"e\", \"Esther\", 32),\n",
    " (\"f\", \"Fanny\", 38),\n",
    " (\"g\", \"Gabby\", 60)\n",
    "], [\"id\", \"name\", \"age\"])\n",
    "e = spark.createDataFrame([\n",
    " (\"a\", \"b\", \"follow\"),\n",
    " (\"a\", \"c\", \"friend\"),\n",
    " (\"a\", \"g\", \"friend\"),\n",
    " (\"b\", \"c\", \"friend\"),\n",
    " (\"c\", \"a\", \"friend\"),\n",
    " (\"c\", \"b\", \"friend\"),\n",
    " (\"c\", \"d\", \"follow\"),\n",
    " (\"c\", \"g\", \"friend\"),\n",
    " (\"d\", \"a\", \"follow\"),\n",
    " (\"d\", \"b\", \"follow\"),\n",
    " (\"d\", \"g\", \"friend\"),\n",
    " (\"e\", \"a\", \"follow\"),\n",
    " (\"e\", \"d\", \"follow\"),\n",
    " (\"f\", \"b\", \"follow\"),\n",
    " (\"f\", \"c\", \"follow\"),\n",
    " (\"f\", \"d\", \"follow\"),\n",
    " (\"g\", \"a\", \"friend\"),\n",
    " (\"g\", \"c\", \"friend\"),\n",
    " (\"g\", \"d\", \"friend\")\n",
    "], [\"src\", \"dst\", \"relationship\"])"
   ]
  },
  {
   "cell_type": "code",
   "execution_count": 406,
   "id": "7aad882a",
   "metadata": {},
   "outputs": [],
   "source": [
    "e1 = e.filter(e.relationship=='follow').groupBy('src').count()\\\n",
    ".withColumnRenamed('src', 'id')\\\n",
    ".withColumnRenamed('count', 'c1')\n",
    "e2 = e.filter(e.relationship=='follow').groupBy('dst').count()\\\n",
    ".withColumnRenamed('dst', 'id')\\\n",
    ".withColumnRenamed('count', 'c2')\n",
    "c1 = e2.join(e1, 'id')\\\n",
    ".select('id', (col('c2')>col('c1')).alias('condition1'))"
   ]
  },
  {
   "cell_type": "code",
   "execution_count": 407,
   "id": "199b1959",
   "metadata": {},
   "outputs": [],
   "source": [
    "num = e.filter(e.relationship=='follow')\\\n",
    ".groupBy('src')\\\n",
    ".count().count()\n",
    "avg = e.filter(e.relationship=='follow')\\\n",
    ".groupBy('src')\\\n",
    ".count().select('count', lit(1).alias('s'))\\\n",
    ".groupBy('s').sum('count')\\\n",
    ".select('s', (col('sum(count)')/num))\\\n",
    ".withColumnRenamed('(sum(count) / 5)', 'avg')\n",
    "c2 = e.filter(e.relationship=='follow')\\\n",
    ".groupBy('src')\\\n",
    ".count().select('src', 'count', lit(1).alias('s'))\\\n",
    ".join(avg, 's').select('src','count', 'avg')\\\n",
    ".select('src', ((col('count')>col('avg')).alias('condition2')))\\\n",
    ".withColumnRenamed('src', 'id')\n",
    "#c1.show()\n",
    "#c2.show()\n",
    "c = c1.join(c2, 'id').filter(\"condition1 = 'true'\").filter(\"condition2 = 'true'\")\n",
    "c.join(v, 'id').select('name').show()"
   ]
  },
  {
   "cell_type": "code",
   "execution_count": 415,
   "id": "51b987ac",
   "metadata": {},
   "outputs": [
    {
     "name": "stdout",
     "output_type": "stream",
     "text": [
      "+-----+\n",
      "| name|\n",
      "+-----+\n",
      "|David|\n",
      "+-----+\n",
      "\n"
     ]
    }
   ],
   "source": [
    "c.join(v, 'id').select('name').show()"
   ]
  },
  {
   "cell_type": "code",
   "execution_count": 416,
   "id": "c73ae9b6",
   "metadata": {},
   "outputs": [],
   "source": [
    "# Q3\n",
    "from graphframes import *\n",
    "g = GraphFrame(v, e)"
   ]
  },
  {
   "cell_type": "code",
   "execution_count": 454,
   "id": "8c5295e1",
   "metadata": {},
   "outputs": [],
   "source": [
    "collect = g.find(\"(a)-[e1]->(b); (a)-[e2]->(c); (b)-[e3]->(c)\")\\\n",
    ".where(\"e1.relationship='friend'\")\\\n",
    ".where(\"e2.relationship='friend'\")\\\n",
    ".where(\"e3.relationship='friend'\")\\\n",
    ".select('a.name', 'b.name', 'c.name')\n",
    "#collect.show()"
   ]
  },
  {
   "cell_type": "code",
   "execution_count": 470,
   "id": "0d4086a2",
   "metadata": {},
   "outputs": [
    {
     "name": "stdout",
     "output_type": "stream",
     "text": [
      "+-------+-------+-------+\n",
      "|   name|   name|   name|\n",
      "+-------+-------+-------+\n",
      "|  Gabby|  Alice|Charlie|\n",
      "|  Alice|Charlie|  Gabby|\n",
      "|  Gabby|Charlie|  Alice|\n",
      "|Charlie|  Alice|  Gabby|\n",
      "|Charlie|  Gabby|  Alice|\n",
      "|  Alice|  Gabby|Charlie|\n",
      "+-------+-------+-------+\n",
      "\n"
     ]
    }
   ],
   "source": [
    "collect.show()"
   ]
  },
  {
   "cell_type": "code",
   "execution_count": null,
   "id": "366fb085",
   "metadata": {},
   "outputs": [],
   "source": []
  },
  {
   "cell_type": "code",
   "execution_count": null,
   "id": "7bc7d562",
   "metadata": {},
   "outputs": [],
   "source": [
    "# Q1\n",
    "array = [1, 2, 1, 1, 2, 2, 1, 1]\n",
    "s = 4\n",
    "\n",
    "from pyspark import SparkContext\n",
    "RDD = sc.parallelize(array, 2).cache()\n",
    "\n",
    "def sequential(nums: List[int]):\n",
    "    # FILL IN YOUR CODE HERE\n",
    "\n",
    "def divide(it):\n",
    "    # FILL IN YOUR CODE HERE\n",
    "\n",
    "def conquer(X):\n",
    "    # FILL IN YOUR CODE HERE\n",
    "\n",
    "X = RDD.mapPartitions(divide).collect()\n",
    "result = conquer(X)"
   ]
  },
  {
   "cell_type": "code",
   "execution_count": 254,
   "id": "fee3654b",
   "metadata": {},
   "outputs": [],
   "source": [
    "array = [1, 2, 1, 1, 2, 2, 1, 1]\n",
    "s = 4\n",
    "\n",
    "from pyspark import SparkContext\n",
    "RDD = sc.parallelize(array, 2).cache()"
   ]
  },
  {
   "cell_type": "code",
   "execution_count": null,
   "id": "5fd89c73",
   "metadata": {},
   "outputs": [],
   "source": [
    "def divide(it):\n",
    "    yield len(list(it))\n",
    "def conquer(X):\n",
    "    for i in range(x):\n",
    "        ss = x[i]\n",
    "        collect = [x[i]]\n",
    "        for j in range(x-1)+1:\n",
    "            ss += x[j]\n",
    "            collect.append(i)\n",
    "            if ss == s:\n",
    "                yield collect\n",
    "                break\n",
    "            if ss > s:\n",
    "                break\n",
    "            "
   ]
  }
 ],
 "metadata": {
  "kernelspec": {
   "display_name": "Python 3",
   "language": "python",
   "name": "python3"
  },
  "language_info": {
   "codemirror_mode": {
    "name": "ipython",
    "version": 3
   },
   "file_extension": ".py",
   "mimetype": "text/x-python",
   "name": "python",
   "nbconvert_exporter": "python",
   "pygments_lexer": "ipython3",
   "version": "3.8.11"
  }
 },
 "nbformat": 4,
 "nbformat_minor": 5
}
