{
 "cells": [
  {
   "cell_type": "code",
   "execution_count": null,
   "id": "554f84f9",
   "metadata": {},
   "outputs": [],
   "source": [
    "sc.addPyFile(\"/opt/homebrew/Cellar/apache-spark/3.1.2/libexec/jars/graphframes-0.8.0-spark3.0-s_2.12.jar\")"
   ]
  },
  {
   "cell_type": "code",
   "execution_count": null,
   "id": "917e79c2",
   "metadata": {},
   "outputs": [],
   "source": [
    "from graphframes import *\n",
    "from pyspark.sql.functions import *"
   ]
  },
  {
   "cell_type": "code",
   "execution_count": 26,
   "id": "4553c9e3",
   "metadata": {},
   "outputs": [
    {
     "name": "stdout",
     "output_type": "stream",
     "text": [
      "+---+-----+---+\n",
      "| id| name|age|\n",
      "+---+-----+---+\n",
      "|  a|Alice| 34|\n",
      "+---+-----+---+\n",
      "only showing top 1 row\n",
      "\n",
      "+---+---+------------+\n",
      "|src|dst|relationship|\n",
      "+---+---+------------+\n",
      "|  a|  b|      friend|\n",
      "+---+---+------------+\n",
      "only showing top 1 row\n",
      "\n",
      "+---+---------+\n",
      "| id|outDegree|\n",
      "+---+---------+\n",
      "|  g|        1|\n",
      "|  f|        1|\n",
      "|  e|        2|\n",
      "+---+---------+\n",
      "only showing top 3 rows\n",
      "\n",
      "+---+--------+\n",
      "| id|inDegree|\n",
      "+---+--------+\n",
      "|  f|       1|\n",
      "|  e|       2|\n",
      "|  d|       1|\n",
      "+---+--------+\n",
      "only showing top 3 rows\n",
      "\n"
     ]
    }
   ],
   "source": [
    "# Vertics DataFrame\n",
    "v = spark.createDataFrame([\n",
    "  (\"a\", \"Alice\", 34),\n",
    "  (\"b\", \"Bob\", 36),\n",
    "  (\"c\", \"Charlie\", 37),\n",
    "  (\"d\", \"David\", 29),\n",
    "  (\"e\", \"Esther\", 32),\n",
    "  (\"f\", \"Fanny\", 38),\n",
    "  (\"g\", \"Gabby\", 60)\n",
    "], [\"id\", \"name\", \"age\"])\n",
    "\n",
    "# Edges DataFrame\n",
    "e = spark.createDataFrame([\n",
    "  (\"a\", \"b\", \"friend\"),\n",
    "  (\"b\", \"c\", \"follow\"),\n",
    "  (\"c\", \"b\", \"follow\"),\n",
    "  (\"f\", \"c\", \"follow\"),\n",
    "  (\"e\", \"f\", \"follow\"),\n",
    "  (\"e\", \"d\", \"friend\"),\n",
    "  (\"d\", \"a\", \"friend\"),\n",
    "  (\"a\", \"e\", \"friend\"),\n",
    "  (\"g\", \"e\", \"follow\")\n",
    "], [\"src\", \"dst\", \"relationship\"])\n",
    "\n",
    "# Create a GraphFrame\n",
    "g = GraphFrame(v, e)\n",
    "\n",
    "g.vertices.show(1)\n",
    "g.edges.show(1)\n",
    "# A GraphFrame has additional attributes\n",
    "g.outDegrees.show(3) # number point out\n",
    "g.inDegrees.show(3) # number point in\n",
    "#g.inDegrees.explain()"
   ]
  },
  {
   "cell_type": "code",
   "execution_count": 27,
   "id": "9db2eafc",
   "metadata": {},
   "outputs": [
    {
     "name": "stdout",
     "output_type": "stream",
     "text": [
      "+----------------+--------------+----------------+\n",
      "|             src|          edge|             dst|\n",
      "+----------------+--------------+----------------+\n",
      "| {e, Esther, 32}|{e, f, follow}|  {f, Fanny, 38}|\n",
      "|  {g, Gabby, 60}|{g, e, follow}| {e, Esther, 32}|\n",
      "|  {a, Alice, 34}|{a, e, friend}| {e, Esther, 32}|\n",
      "| {e, Esther, 32}|{e, d, friend}|  {d, David, 29}|\n",
      "|  {f, Fanny, 38}|{f, c, follow}|{c, Charlie, 37}|\n",
      "|    {b, Bob, 36}|{b, c, follow}|{c, Charlie, 37}|\n",
      "|{c, Charlie, 37}|{c, b, follow}|    {b, Bob, 36}|\n",
      "|  {a, Alice, 34}|{a, b, friend}|    {b, Bob, 36}|\n",
      "|  {d, David, 29}|{d, a, friend}|  {a, Alice, 34}|\n",
      "+----------------+--------------+----------------+\n",
      "\n"
     ]
    }
   ],
   "source": [
    "# A triplet view of the graph\n",
    "g.triplets.show()\n",
    "#g.triplets.explain()"
   ]
  },
  {
   "cell_type": "code",
   "execution_count": null,
   "id": "75c10a7f",
   "metadata": {},
   "outputs": [],
   "source": [
    "# g.vertices and g.edges are just DataFrames\n",
    "# You can use any DataFrame API on them\n",
    "g.edges.filter(\"src = 'a'\").show(1)\n",
    "g.edges.filter(\"src = 'a'\").count()"
   ]
  },
  {
   "cell_type": "code",
   "execution_count": null,
   "id": "84001d3a",
   "metadata": {},
   "outputs": [],
   "source": [
    "# Count the number of followers of c.\n",
    "# This queries the edge DataFrame.\n",
    "print(g.edges.filter(\"relationship = 'follow' and dst = 'c'\").count())"
   ]
  },
  {
   "cell_type": "code",
   "execution_count": 18,
   "id": "c47b437d",
   "metadata": {},
   "outputs": [
    {
     "name": "stdout",
     "output_type": "stream",
     "text": [
      "+---+--------+\n",
      "| id|inDegree|\n",
      "+---+--------+\n",
      "|  f|       1|\n",
      "|  e|       2|\n",
      "|  d|       1|\n",
      "|  c|       2|\n",
      "|  b|       2|\n",
      "|  a|       1|\n",
      "+---+--------+\n",
      "\n"
     ]
    }
   ],
   "source": [
    "# Rewrite indegree\n",
    "myInDegrees = g.edges.groupBy('dst').count()\\\n",
    "               .withColumnRenamed('dst', 'id').withColumnRenamed('count', 'inDegree')\n",
    "myInDegrees.show()\n",
    "#myInDegrees.explain()"
   ]
  },
  {
   "cell_type": "code",
   "execution_count": 19,
   "id": "62c7b94f",
   "metadata": {},
   "outputs": [
    {
     "name": "stdout",
     "output_type": "stream",
     "text": [
      "Serialized 1x Replicated\n"
     ]
    }
   ],
   "source": [
    "print(g.inDegrees.storageLevel)"
   ]
  },
  {
   "cell_type": "code",
   "execution_count": 20,
   "id": "c994b817",
   "metadata": {},
   "outputs": [
    {
     "data": {
      "text/plain": [
       "DataFrame[id: string, inDegree: int]"
      ]
     },
     "execution_count": 20,
     "metadata": {},
     "output_type": "execute_result"
    }
   ],
   "source": [
    "g.inDegrees.cache()"
   ]
  },
  {
   "cell_type": "code",
   "execution_count": 21,
   "id": "3299d071",
   "metadata": {},
   "outputs": [
    {
     "name": "stdout",
     "output_type": "stream",
     "text": [
      "Disk Memory Deserialized 1x Replicated\n"
     ]
    }
   ],
   "source": [
    "print(g.inDegrees.storageLevel)"
   ]
  },
  {
   "cell_type": "code",
   "execution_count": 22,
   "id": "45275f59",
   "metadata": {},
   "outputs": [
    {
     "name": "stdout",
     "output_type": "stream",
     "text": [
      "Serialized 1x Replicated\n"
     ]
    }
   ],
   "source": [
    "print(g.vertices.storageLevel)"
   ]
  },
  {
   "cell_type": "code",
   "execution_count": null,
   "id": "bcd04ff7",
   "metadata": {},
   "outputs": [],
   "source": [
    "g.cache()"
   ]
  },
  {
   "cell_type": "code",
   "execution_count": 23,
   "id": "9b601cc1",
   "metadata": {},
   "outputs": [
    {
     "name": "stdout",
     "output_type": "stream",
     "text": [
      "Serialized 1x Replicated\n",
      "Serialized 1x Replicated\n"
     ]
    }
   ],
   "source": [
    "print(g.vertices.storageLevel)\n",
    "print(g.edges.storageLevel)"
   ]
  },
  {
   "cell_type": "markdown",
   "id": "25dec970",
   "metadata": {},
   "source": [
    "# MotifFinding"
   ]
  },
  {
   "cell_type": "code",
   "execution_count": 41,
   "id": "ae1d3248",
   "metadata": {},
   "outputs": [],
   "source": [
    "#g.triplets.show()"
   ]
  },
  {
   "cell_type": "code",
   "execution_count": 42,
   "id": "849b3060",
   "metadata": {},
   "outputs": [
    {
     "name": "stdout",
     "output_type": "stream",
     "text": [
      "+----------------+----------------+\n",
      "|               a|               b|\n",
      "+----------------+----------------+\n",
      "|{c, Charlie, 37}|    {b, Bob, 36}|\n",
      "|    {b, Bob, 36}|{c, Charlie, 37}|\n",
      "+----------------+----------------+\n",
      "\n"
     ]
    }
   ],
   "source": [
    "g.find(\"(a)-[]->(b); (b)-[]->(a)\").show()"
   ]
  },
  {
   "cell_type": "code",
   "execution_count": 43,
   "id": "395e8691",
   "metadata": {},
   "outputs": [
    {
     "name": "stdout",
     "output_type": "stream",
     "text": [
      "+------------+----------------+\n",
      "|           a|               b|\n",
      "+------------+----------------+\n",
      "|{b, Bob, 36}|{c, Charlie, 37}|\n",
      "+------------+----------------+\n",
      "\n"
     ]
    }
   ],
   "source": [
    "# Search for pairs of vertices with edges in both directions between them.\n",
    "motifs = g.find(\"(a)-[]->(b); (b)-[]->(a)\").filter('a.id < b.id')\n",
    "motifs.show()"
   ]
  },
  {
   "cell_type": "code",
   "execution_count": 46,
   "id": "6f7bfea4",
   "metadata": {},
   "outputs": [
    {
     "name": "stdout",
     "output_type": "stream",
     "text": [
      "+--------------+---------------+--------------+\n",
      "|             a|              b|             c|\n",
      "+--------------+---------------+--------------+\n",
      "|{a, Alice, 34}|{e, Esther, 32}|{d, David, 29}|\n",
      "+--------------+---------------+--------------+\n",
      "\n"
     ]
    }
   ],
   "source": [
    "# Find triangles\n",
    "triangles = g.find(\"(a)-[]->(b); (b)-[]->(c); (c)-[]->(a)\")\n",
    "triangles = triangles.filter(\"a.id < b.id AND a.id < c.id\")\n",
    "triangles.show()"
   ]
  },
  {
   "cell_type": "code",
   "execution_count": 47,
   "id": "cf5157f4",
   "metadata": {},
   "outputs": [
    {
     "name": "stdout",
     "output_type": "stream",
     "text": [
      "+---------------+----------------+\n",
      "|              a|               b|\n",
      "+---------------+----------------+\n",
      "| {a, Alice, 34}| {e, Esther, 32}|\n",
      "|{e, Esther, 32}|  {d, David, 29}|\n",
      "| {a, Alice, 34}|    {b, Bob, 36}|\n",
      "| {g, Gabby, 60}| {e, Esther, 32}|\n",
      "|{e, Esther, 32}|  {f, Fanny, 38}|\n",
      "| {f, Fanny, 38}|{c, Charlie, 37}|\n",
      "| {d, David, 29}|  {a, Alice, 34}|\n",
      "+---------------+----------------+\n",
      "\n"
     ]
    }
   ],
   "source": [
    "# Negation\n",
    "oneway = g.find(\"(a)-[]->(b); !(b)-[]->(a)\")\n",
    "oneway.show()"
   ]
  },
  {
   "cell_type": "code",
   "execution_count": 48,
   "id": "b76476cf",
   "metadata": {},
   "outputs": [
    {
     "name": "stdout",
     "output_type": "stream",
     "text": [
      "+--------------+\n",
      "|             a|\n",
      "+--------------+\n",
      "|{g, Gabby, 60}|\n",
      "+--------------+\n",
      "\n"
     ]
    }
   ],
   "source": [
    "# Find vertices without incoming edges:\n",
    "g.find(\"!()-[]->(a)\").show()"
   ]
  },
  {
   "cell_type": "code",
   "execution_count": 57,
   "id": "3e89c2df",
   "metadata": {},
   "outputs": [
    {
     "name": "stdout",
     "output_type": "stream",
     "text": [
      "+----------------+--------------+----------------+\n",
      "|               a|             e|               b|\n",
      "+----------------+--------------+----------------+\n",
      "|{c, Charlie, 37}|{c, b, follow}|    {b, Bob, 36}|\n",
      "|    {b, Bob, 36}|{b, c, follow}|{c, Charlie, 37}|\n",
      "+----------------+--------------+----------------+\n",
      "\n"
     ]
    }
   ],
   "source": [
    "# More meaningful queries can be expressed by applying filters.\n",
    "# Question: where is this filter applied?\n",
    "g.find(\"(a)-[e]->(b); (b)-[]->(a)\").show()#.filter(\"b.age > 36\").show()\n",
    "#g.find(\"(a)-[]->(b); (b)-[]->(a)\").filter(\"b.age > 36\").explain()"
   ]
  },
  {
   "cell_type": "code",
   "execution_count": 58,
   "id": "1ff3a848",
   "metadata": {},
   "outputs": [
    {
     "name": "stdout",
     "output_type": "stream",
     "text": [
      "+---------------+---------------+---------------+----------------+\n",
      "|              a|              b|              c|               d|\n",
      "+---------------+---------------+---------------+----------------+\n",
      "| {d, David, 29}| {a, Alice, 34}|{e, Esther, 32}|  {f, Fanny, 38}|\n",
      "| {d, David, 29}| {a, Alice, 34}|   {b, Bob, 36}|{c, Charlie, 37}|\n",
      "|{e, Esther, 32}| {d, David, 29}| {a, Alice, 34}|    {b, Bob, 36}|\n",
      "| {g, Gabby, 60}|{e, Esther, 32}| {d, David, 29}|  {a, Alice, 34}|\n",
      "+---------------+---------------+---------------+----------------+\n",
      "\n"
     ]
    }
   ],
   "source": [
    "# Find chains of 4 vertices such that at least 2 of the 3 edges are \"friend\" relationships.\n",
    "# The when function is similar to the CASE WHEN in SQL\n",
    "\n",
    "chain4 = g.find(\"(a)-[e1]->(b); (b)-[e2]->(c); (c)-[e3]->(d)\").where('a!=d AND a!=c AND b!=d')\n",
    "\n",
    "friendTo1 = lambda e: when(e['relationship'] == 'friend', 1).otherwise(0)\n",
    "\n",
    "chain4.select('*',friendTo1(chain4['e1']).alias('f1'), \\\n",
    "                  friendTo1(chain4['e2']).alias('f2'), \\\n",
    "                  friendTo1(chain4['e3']).alias('f3')) \\\n",
    "      .where('f1 + f2 + f3 >= 2').select('a', 'b', 'c', 'd').show()"
   ]
  },
  {
   "cell_type": "code",
   "execution_count": 59,
   "id": "8136846e",
   "metadata": {},
   "outputs": [
    {
     "name": "stdout",
     "output_type": "stream",
     "text": [
      "+---+------+---+\n",
      "| id|  name|age|\n",
      "+---+------+---+\n",
      "|  e|Esther| 32|\n",
      "|  b|   Bob| 36|\n",
      "|  a| Alice| 34|\n",
      "+---+------+---+\n",
      "\n",
      "+---+---+------------+\n",
      "|src|dst|relationship|\n",
      "+---+---+------------+\n",
      "|  a|  e|      friend|\n",
      "|  a|  b|      friend|\n",
      "+---+---+------------+\n",
      "\n"
     ]
    }
   ],
   "source": [
    "# Select subgraph of users older than 30, and relationships of type \"friend\".\n",
    "# Drop isolated vertices (users) which are not contained in any edges (relationships).\n",
    "\n",
    "g1 = g.filterVertices(\"age > 30\").filterEdges(\"relationship = 'friend'\")\\\n",
    "      .dropIsolatedVertices()\n",
    "\n",
    "g1.vertices.show()\n",
    "g1.edges.show()"
   ]
  },
  {
   "cell_type": "markdown",
   "id": "8a4bf8d3",
   "metadata": {},
   "source": [
    "# Quiz"
   ]
  },
  {
   "cell_type": "code",
   "execution_count": 89,
   "id": "8158c596",
   "metadata": {},
   "outputs": [
    {
     "name": "stdout",
     "output_type": "stream",
     "text": [
      "+-------+\n",
      "|   name|\n",
      "+-------+\n",
      "|  Fanny|\n",
      "|Charlie|\n",
      "|  David|\n",
      "+-------+\n",
      "\n"
     ]
    }
   ],
   "source": [
    "# Find Alice's two-hop neighbors' names, regardless of the edge type.\n",
    "g.find(\"(a)-[]->(b); (b)-[]->(c); !(a)-[]->(c)\")\\\n",
    ".where(\"a.id='a'\")\\\n",
    ".select('c.name')\\\n",
    ".distinct().show()"
   ]
  },
  {
   "cell_type": "code",
   "execution_count": 87,
   "id": "07980540",
   "metadata": {},
   "outputs": [
    {
     "name": "stdout",
     "output_type": "stream",
     "text": [
      "+-----+\n",
      "| name|\n",
      "+-----+\n",
      "|David|\n",
      "+-----+\n",
      "\n"
     ]
    }
   ],
   "source": [
    "# Redo the previous question, but exclude Alice's two-hop neighbors who have an edge back to Alice.\n",
    "g.find(\"(a)-[]->(b); (b)-[]->(c); !(a)-[]->(c); (c)-[]->(a)\")\\\n",
    ".where(\"a.id='a'\")\\\n",
    ".select('c.name')\\\n",
    ".distinct().show()"
   ]
  },
  {
   "cell_type": "code",
   "execution_count": 100,
   "id": "facbaf0a",
   "metadata": {},
   "outputs": [
    {
     "name": "stdout",
     "output_type": "stream",
     "text": [
      "+-----+\n",
      "| name|\n",
      "+-----+\n",
      "|Fanny|\n",
      "|  Bob|\n",
      "+-----+\n",
      "\n"
     ]
    }
   ],
   "source": [
    "# Find all people who follow Charlie.\n",
    "g.find(\"(a)-[e]->(b)\")\\\n",
    ".where(\"b.id='c' and e.relationship='follow'\")\\\n",
    ".select(\"a.name\")\\\n",
    ".distinct().show()"
   ]
  },
  {
   "cell_type": "code",
   "execution_count": 129,
   "id": "14c4d929",
   "metadata": {},
   "outputs": [
    {
     "name": "stdout",
     "output_type": "stream",
     "text": [
      "+-------+-----+\n",
      "|   name|count|\n",
      "+-------+-----+\n",
      "|Charlie|    2|\n",
      "+-------+-----+\n",
      "\n"
     ]
    }
   ],
   "source": [
    "# Find all people who are being followed by at least 2 people.\n",
    "g.find(\"(a)-[e]->(b)\")\\\n",
    ".where(\"e.relationship='follow'\")\\\n",
    ".select('b.name', 'e.src')\\\n",
    ".groupBy('name')\\\n",
    ".count()\\\n",
    ".where(\"count>=2\").show()"
   ]
  },
  {
   "cell_type": "code",
   "execution_count": null,
   "id": "b6192f37",
   "metadata": {},
   "outputs": [],
   "source": []
  }
 ],
 "metadata": {
  "kernelspec": {
   "display_name": "Python 3",
   "language": "python",
   "name": "python3"
  },
  "language_info": {
   "codemirror_mode": {
    "name": "ipython",
    "version": 3
   },
   "file_extension": ".py",
   "mimetype": "text/x-python",
   "name": "python",
   "nbconvert_exporter": "python",
   "pygments_lexer": "ipython3",
   "version": "3.8.11"
  }
 },
 "nbformat": 4,
 "nbformat_minor": 5
}
